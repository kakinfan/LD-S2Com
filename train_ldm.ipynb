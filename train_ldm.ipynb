{
 "cells": [
  {
   "cell_type": "code",
   "execution_count": 1,
   "id": "9870ca73",
   "metadata": {},
   "outputs": [],
   "source": [
    "import torch\n",
    "from torch.utils.data import DataLoader\n",
    "from torchvision import transforms\n",
    "from datasets.mfnet_dataset import MFNetDataset\n",
    "from models.semantic_encoder import SemanticEncoder\n",
    "from models.semantic_decoder import SemanticDecoder\n",
    "from models.simple_diffusion import SimpleDiffusion\n",
    "import torch.optim as optim\n",
    "import torch.nn as nn\n",
    "from config import root, max_samples, img_size, latent_dim, batch_size, num_epochs, lr"
   ]
  },
  {
   "cell_type": "code",
   "execution_count": 2,
   "id": "21cb07db",
   "metadata": {},
   "outputs": [],
   "source": [
    "class NoisePredictor(nn.Module):\n",
    "    def __init__(self, latent_dim):\n",
    "        super().__init__()\n",
    "        self.net = nn.Sequential(\n",
    "            nn.Linear(latent_dim, latent_dim),\n",
    "            nn.ReLU(),\n",
    "            nn.Linear(latent_dim, latent_dim)\n",
    "        )\n",
    "    def forward(self, z, t):\n",
    "        return self.net(z)"
   ]
  },
  {
   "cell_type": "code",
   "execution_count": 3,
   "id": "1c31782a",
   "metadata": {},
   "outputs": [
    {
     "name": "stderr",
     "output_type": "stream",
     "text": [
      "d:\\miniconda\\lib\\site-packages\\torchvision\\models\\_utils.py:208: UserWarning: The parameter 'pretrained' is deprecated since 0.13 and may be removed in the future, please use 'weights' instead.\n",
      "  warnings.warn(\n",
      "d:\\miniconda\\lib\\site-packages\\torchvision\\models\\_utils.py:223: UserWarning: Arguments other than a weight enum or `None` for 'weights' are deprecated since 0.13 and may be removed in the future. The current behavior is equivalent to passing `weights=ResNet18_Weights.IMAGENET1K_V1`. You can also use `weights=ResNet18_Weights.DEFAULT` to get the most up-to-date weights.\n",
      "  warnings.warn(msg)\n"
     ]
    },
    {
     "name": "stdout",
     "output_type": "stream",
     "text": [
      "Epoch 1: LDM loss=1.0076\n"
     ]
    }
   ],
   "source": [
    "def main():\n",
    "    device = torch.device('cuda' if torch.cuda.is_available() else 'cpu')\n",
    "    transform = transforms.Compose([\n",
    "        transforms.Resize((256, 256)),\n",
    "        transforms.ToTensor(),\n",
    "        transforms.Lambda(lambda x: x.repeat(3, 1, 1) if x.shape[0] == 1 else x)\n",
    "    ])\n",
    "    train_dataset = MFNetDataset(root=root, transform=transform, max_samples=max_samples)\n",
    "    train_loader = DataLoader(train_dataset, batch_size=batch_size, shuffle=True)\n",
    "\n",
    "    encoder = SemanticEncoder(latent_dim=latent_dim).to(device)\n",
    "    decoder = SemanticDecoder(latent_dim=latent_dim).to(device)\n",
    "    diffusion = SimpleDiffusion(latent_dim=latent_dim).to(device)\n",
    "    noise_predictor = NoisePredictor(latent_dim).to(device)\n",
    "\n",
    "    optimizer = optim.Adam(list(encoder.parameters()) + list(noise_predictor.parameters()), lr=lr)\n",
    "    mse_loss = nn.MSELoss()\n",
    "    timesteps = diffusion.timesteps\n",
    "\n",
    "    for epoch in range(num_epochs):\n",
    "        for batch in train_loader:\n",
    "            rgb = batch['rgb'].to(device)\n",
    "            z = encoder(rgb)\n",
    "            t = torch.randint(0, timesteps, (z.size(0),), device=device)\n",
    "            noise = torch.randn_like(z)\n",
    "            z_noisy = diffusion.q_sample(z, t, noise)\n",
    "            pred_noise = noise_predictor(z_noisy, t)\n",
    "            loss = mse_loss(pred_noise, noise)\n",
    "            optimizer.zero_grad()\n",
    "            loss.backward()\n",
    "            optimizer.step()\n",
    "        print(f\"Epoch {epoch+1}: LDM loss={loss.item():.4f}\")\n",
    "\n",
    "if __name__ == \"__main__\":\n",
    "    main()"
   ]
  }
 ],
 "metadata": {
  "kernelspec": {
   "display_name": "base",
   "language": "python",
   "name": "python3"
  },
  "language_info": {
   "codemirror_mode": {
    "name": "ipython",
    "version": 3
   },
   "file_extension": ".py",
   "mimetype": "text/x-python",
   "name": "python",
   "nbconvert_exporter": "python",
   "pygments_lexer": "ipython3",
   "version": "3.9.7"
  }
 },
 "nbformat": 4,
 "nbformat_minor": 5
}
