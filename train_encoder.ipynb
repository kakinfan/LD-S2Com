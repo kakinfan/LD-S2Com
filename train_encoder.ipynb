{
 "cells": [
  {
   "cell_type": "markdown",
   "id": "61ea4a46",
   "metadata": {},
   "source": [
    "项目 LD-S2Com 是一个用于红外图像语义分割任务的深度学习研究原型，具体目标是跨模态对比学习，即让模型从 RGB 图像与其语义标签之间学到共通特征表达，用于提升红外图像的理解能力。"
   ]
  },
  {
   "cell_type": "markdown",
   "id": "f5cff464",
   "metadata": {},
   "source": [
    "项目主要实现两个模块：\n",
    "\n",
    "编码器（Encoder）：负责将图像编码成特征向量（即模型能理解的形式）\n",
    "\n",
    "判别器（Discriminator）：判断两张图像（RGB 和 Label）是否是成对的，通过这个机制来强化编码器学习语义内容。"
   ]
  },
  {
   "cell_type": "markdown",
   "id": "05284663",
   "metadata": {},
   "source": [
    "    核心训练脚本，训练编码器和判别器，用于验证最小训练流程。"
   ]
  },
  {
   "cell_type": "code",
   "execution_count": 1,
   "id": "da43e52a",
   "metadata": {},
   "outputs": [],
   "source": [
    "import os\n",
    "os.chdir(r'C:\\Users\\jessi\\Desktop\\5th\\experiment\\LD-S2Com')"
   ]
  },
  {
   "cell_type": "code",
   "execution_count": 1,
   "id": "28841ea1",
   "metadata": {},
   "outputs": [],
   "source": [
    "import torch\n",
    "from torch.utils.data import DataLoader\n",
    "from torchvision import transforms\n",
    "from datasets.mfnet_dataset import MFNetDataset\n",
    "from models.semantic_encoder import SemanticEncoder\n",
    "from models.cross_modal_discriminator import CrossModalDiscriminator\n",
    "import torch.optim as optim\n",
    "import torch.nn as nn\n",
    "\n",
    "from config import root, max_samples, img_size, latent_dim, batch_size, num_epochs, lr\n"
   ]
  },
  {
   "cell_type": "code",
   "execution_count": 3,
   "id": "2d3df361",
   "metadata": {},
   "outputs": [
    {
     "name": "stdout",
     "output_type": "stream",
     "text": [
      "Epoch 1: D_loss=1.4162, E_loss=0.6583\n"
     ]
    }
   ],
   "source": [
    "def main():\n",
    "    # 配置\n",
    "    device = torch.device('cuda' if torch.cuda.is_available() else 'cpu')\n",
    "    #latent_dim = 512\n",
    "    #batch_size = batch_size\n",
    "    #num_epochs = num_epochs\n",
    "    #batch_size = 2  # 更小的 batch\n",
    "    #num_epochs = 1  # 更少的 epoch\n",
    "\n",
    "    # 数据\n",
    "    transform = transforms.Compose([\n",
    "        transforms.Resize((256, 256)),\n",
    "        transforms.ToTensor(),\n",
    "        transforms.Lambda(lambda x: x.repeat(3, 1, 1) if x.shape[0] == 1 else x)  # 1通道变3通道\n",
    "    ])\n",
    "    #train_dataset = MFNetDataset(root='path/to/MFNet', transform=transform)\n",
    "    train_dataset = MFNetDataset(root=root, transform=transform, max_samples=max_samples)\n",
    "    train_loader = DataLoader(train_dataset, batch_size=batch_size, shuffle=True)\n",
    "\n",
    "    # 模型\n",
    "    encoder = SemanticEncoder(latent_dim=latent_dim).to(device)\n",
    "    discriminator = CrossModalDiscriminator(latent_dim=latent_dim).to(device)\n",
    "\n",
    "    # 优化器\n",
    "    optimizer_enc = optim.Adam(encoder.parameters(), lr=lr)\n",
    "    optimizer_disc = optim.Adam(discriminator.parameters(), lr= lr)\n",
    "    criterion = nn.BCELoss()\n",
    "\n",
    "    # 训练循环\n",
    "    for epoch in range(num_epochs):\n",
    "        for batch in train_loader:\n",
    "            rgb = batch['rgb'].to(device)\n",
    "            # 假设 label 也可编码为特征\n",
    "            label = batch['label'].to(device)\n",
    "            z_rgb = encoder(rgb)\n",
    "            #z_label = encoder(label.float().repeat(1,3,1,1))  # 简单处理，实际应有更合适的label编码\n",
    "            \n",
    "            #label = batch['label'].to(device)\n",
    "            if label.shape[1] == 1:\n",
    "                label_input = label.repeat(1, 3, 1, 1)\n",
    "            else:\n",
    "                label_input = label\n",
    "            z_label = encoder(label_input.float())\n",
    "\n",
    "            # 判别器训练\n",
    "            real = torch.ones(rgb.size(0), 1).to(device)\n",
    "            fake = torch.zeros(rgb.size(0), 1).to(device)\n",
    "            d_real = discriminator(z_rgb, z_label)\n",
    "            d_fake = discriminator(z_rgb, z_rgb[torch.randperm(z_rgb.size(0))])\n",
    "            loss_disc = criterion(d_real, real) + criterion(d_fake, fake)\n",
    "            optimizer_disc.zero_grad()\n",
    "            loss_disc.backward(retain_graph=True)\n",
    "            optimizer_disc.step()\n",
    "\n",
    "            # 编码器训练（对抗损失）\n",
    "            d_real = discriminator(z_rgb, z_label)\n",
    "            loss_enc = criterion(d_real, fake)\n",
    "            optimizer_enc.zero_grad()\n",
    "            loss_enc.backward()\n",
    "            optimizer_enc.step()\n",
    "\n",
    "        print(f\"Epoch {epoch+1}: D_loss={loss_disc.item():.4f}, E_loss={loss_enc.item():.4f}\")\n",
    "\n",
    "if __name__ == \"__main__\":\n",
    "    main()"
   ]
  }
 ],
 "metadata": {
  "kernelspec": {
   "display_name": "base",
   "language": "python",
   "name": "python3"
  },
  "language_info": {
   "codemirror_mode": {
    "name": "ipython",
    "version": 3
   },
   "file_extension": ".py",
   "mimetype": "text/x-python",
   "name": "python",
   "nbconvert_exporter": "python",
   "pygments_lexer": "ipython3",
   "version": "3.9.7"
  }
 },
 "nbformat": 4,
 "nbformat_minor": 5
}
