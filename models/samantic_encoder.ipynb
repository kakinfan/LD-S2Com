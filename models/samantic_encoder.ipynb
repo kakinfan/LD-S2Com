{
 "cells": [
  {
   "cell_type": "code",
   "execution_count": null,
   "id": "9fc9599d",
   "metadata": {},
   "outputs": [],
   "source": [
    "import torch.nn as nn\n",
    "import torchvision.models as models\n",
    "\n",
    "class SemanticEncoder(nn.Module):\n",
    "    def __init__(self, latent_dim=512):\n",
    "        super().__init__()\n",
    "        resnet = models.resnet18(pretrained=True)\n",
    "        self.backbone = nn.Sequential(*list(resnet.children())[:-1])  # 去掉fc\n",
    "        self.fc = nn.Linear(resnet.fc.in_features, latent_dim)\n",
    "\n",
    "    def forward(self, x):\n",
    "        x = self.backbone(x)\n",
    "        x = x.view(x.size(0), -1)\n",
    "        z = self.fc(x)\n",
    "        return z"
   ]
  }
 ],
 "metadata": {
  "language_info": {
   "name": "python"
  }
 },
 "nbformat": 4,
 "nbformat_minor": 5
}
