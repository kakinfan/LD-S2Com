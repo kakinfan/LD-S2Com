{
 "cells": [
  {
   "cell_type": "markdown",
   "id": "7e37054e",
   "metadata": {},
   "source": [
    "iou_score 计算每个类别的 IoU。"
   ]
  },
  {
   "cell_type": "markdown",
   "id": "a641efa8",
   "metadata": {},
   "source": [
    "需要根据实际输出和标签格式调整 num_classes 和张量处理方式。"
   ]
  },
  {
   "cell_type": "code",
   "execution_count": 1,
   "id": "8e68da57",
   "metadata": {},
   "outputs": [],
   "source": [
    "import numpy as np\n",
    "\n",
    "def iou_score(pred, label, num_classes):\n",
    "    pred = pred.cpu().numpy()\n",
    "    label = label.cpu().numpy()\n",
    "    ious = []\n",
    "    for cls in range(num_classes):\n",
    "        pred_inds = (pred == cls)\n",
    "        label_inds = (label == cls)\n",
    "        intersection = (pred_inds & label_inds).sum()\n",
    "        union = (pred_inds | label_inds).sum()\n",
    "        if union == 0:\n",
    "            ious.append(float('nan'))\n",
    "        else:\n",
    "            ious.append(intersection / union)\n",
    "    return ious"
   ]
  }
 ],
 "metadata": {
  "kernelspec": {
   "display_name": "base",
   "language": "python",
   "name": "python3"
  },
  "language_info": {
   "codemirror_mode": {
    "name": "ipython",
    "version": 3
   },
   "file_extension": ".py",
   "mimetype": "text/x-python",
   "name": "python",
   "nbconvert_exporter": "python",
   "pygments_lexer": "ipython3",
   "version": "3.9.7"
  }
 },
 "nbformat": 4,
 "nbformat_minor": 5
}
