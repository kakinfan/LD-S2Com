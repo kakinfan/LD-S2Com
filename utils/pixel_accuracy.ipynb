{
 "cells": [
  {
   "cell_type": "markdown",
   "id": "b5fbb737",
   "metadata": {},
   "source": [
    "pixel_accuracy 计算像素级准确率。"
   ]
  },
  {
   "cell_type": "markdown",
   "id": "8a16e03b",
   "metadata": {},
   "source": [
    "需要根据实际输出和标签格式调整 num_classes 和张量处理方式。"
   ]
  },
  {
   "cell_type": "code",
   "execution_count": 1,
   "id": "9f4fc1a5",
   "metadata": {},
   "outputs": [],
   "source": [
    "import numpy as np\n",
    "\n",
    "def pixel_accuracy(pred, label):\n",
    "    pred = pred.cpu().numpy()\n",
    "    label = label.cpu().numpy()\n",
    "    return (pred == label).sum() / np.prod(label.shape)"
   ]
  }
 ],
 "metadata": {
  "kernelspec": {
   "display_name": "base",
   "language": "python",
   "name": "python3"
  },
  "language_info": {
   "codemirror_mode": {
    "name": "ipython",
    "version": 3
   },
   "file_extension": ".py",
   "mimetype": "text/x-python",
   "name": "python",
   "nbconvert_exporter": "python",
   "pygments_lexer": "ipython3",
   "version": "3.9.7"
  }
 },
 "nbformat": 4,
 "nbformat_minor": 5
}
