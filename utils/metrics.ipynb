{
 "cells": [
  {
   "cell_type": "code",
   "execution_count": null,
   "id": "acda82b5",
   "metadata": {},
   "outputs": [],
   "source": [
    "import torch.nn.functional as F\n",
    "import torch\n",
    "\n",
    "def compute_psnr(x, x_hat):\n",
    "    mse = F.mse_loss(x, x_hat)\n",
    "    return 10 * torch.log10(1 / mse)\n",
    "\n",
    "def estimate_energy_cost(model, flops_per_inference, tx_power, tx_time):\n",
    "    alpha = 1e-12\n",
    "    return tx_power * tx_time + alpha * flops_per_inference"
   ]
  }
 ],
 "metadata": {
  "language_info": {
   "name": "python"
  }
 },
 "nbformat": 4,
 "nbformat_minor": 5
}
