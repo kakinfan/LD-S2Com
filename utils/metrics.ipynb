{
 "cells": [
  {
   "cell_type": "code",
   "execution_count": 1,
   "id": "acda82b5",
   "metadata": {},
   "outputs": [],
   "source": [
    "import torch.nn.functional as F\n",
    "import torch\n",
    "\n",
    "def compute_psnr(x, x_hat):\n",
    "    mse = F.mse_loss(x, x_hat)\n",
    "    return 10 * torch.log10(1 / mse)\n",
    "\n",
    "def estimate_energy_cost(model, flops_per_inference, tx_power, tx_time):\n",
    "    alpha = 1e-12\n",
    "    return tx_power * tx_time + alpha * flops_per_inference"
   ]
  }
 ],
 "metadata": {
  "kernelspec": {
   "display_name": "base",
   "language": "python",
   "name": "python3"
  },
  "language_info": {
   "codemirror_mode": {
    "name": "ipython",
    "version": 3
   },
   "file_extension": ".py",
   "mimetype": "text/x-python",
   "name": "python",
   "nbconvert_exporter": "python",
   "pygments_lexer": "ipython3",
   "version": "3.9.7"
  }
 },
 "nbformat": 4,
 "nbformat_minor": 5
}
