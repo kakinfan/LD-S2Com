{
 "cells": [
  {
   "cell_type": "code",
   "execution_count": null,
   "id": "4c34d5af",
   "metadata": {},
   "outputs": [],
   "source": [
    "import torch\n",
    "\n",
    "def fgsm_attack(x, grad, epsilon=0.03):\n",
    "    return x + epsilon * grad.sign()\n",
    "\n",
    "def rayleigh_channel(z, scale=0.5):\n",
    "    h = torch.distributions.rayleigh.Rayleigh(scale).sample(z.shape).to(z.device)\n",
    "    return z * h\n",
    "\n",
    "def awgn_noise(z, snr_db):\n",
    "    snr = 10 ** (snr_db / 10)\n",
    "    power_signal = z.norm(p=2) ** 2 / z.numel()\n",
    "    power_noise = power_signal / snr\n",
    "    noise = torch.randn_like(z) * torch.sqrt(power_noise)\n",
    "    return z + noise"
   ]
  }
 ],
 "metadata": {
  "language_info": {
   "name": "python"
  }
 },
 "nbformat": 4,
 "nbformat_minor": 5
}
