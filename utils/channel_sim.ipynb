{
 "cells": [
  {
   "cell_type": "code",
   "execution_count": 1,
   "id": "4c34d5af",
   "metadata": {},
   "outputs": [],
   "source": [
    "import torch\n",
    "\n",
    "\n",
    "def fgsm_attack(x, grad, epsilon=0.03):\n",
    "    return x + epsilon * grad.sign()\n",
    "\n",
    "def rayleigh_channel(z, scale=0.5):\n",
    "    h = torch.distributions.rayleigh.Rayleigh(scale).sample(z.shape).to(z.device)\n",
    "    return z * h\n",
    "\n",
    "def awgn_noise(z, snr_db):\n",
    "    snr = 10 ** (snr_db / 10)\n",
    "    power_signal = z.norm(p=2) ** 2 / z.numel()\n",
    "    power_noise = power_signal / snr\n",
    "    noise = torch.randn_like(z) * torch.sqrt(power_noise)\n",
    "    return z + noise"
   ]
  }
 ],
 "metadata": {
  "kernelspec": {
   "display_name": "base",
   "language": "python",
   "name": "python3"
  },
  "language_info": {
   "codemirror_mode": {
    "name": "ipython",
    "version": 3
   },
   "file_extension": ".py",
   "mimetype": "text/x-python",
   "name": "python",
   "nbconvert_exporter": "python",
   "pygments_lexer": "ipython3",
   "version": "3.9.7"
  }
 },
 "nbformat": 4,
 "nbformat_minor": 5
}
