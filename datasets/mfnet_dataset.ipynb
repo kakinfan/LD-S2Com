{
 "cells": [
  {
   "cell_type": "code",
   "execution_count": null,
   "id": "ef20ee0d",
   "metadata": {},
   "outputs": [],
   "source": [
    "import os\n",
    "from PIL import Image\n",
    "from torch.utils.data import Dataset\n",
    "\n",
    "class MFNetDataset(Dataset):\n",
    "    #def __init__(self, root, transform=None):\n",
    "    def __init__(self, root, transform=None, max_samples=None):\n",
    "        self.root = root\n",
    "        self.transform = transform\n",
    "        self.rgb_paths = sorted(os.listdir(os.path.join(root, 'RGB')))\n",
    "        self.label_paths = sorted(os.listdir(os.path.join(root, 'LABEL')))\n",
    "        \n",
    "        # max_samples 参数，便于只加载部分数据：\n",
    "        if max_samples is not None:  \n",
    "            self.rgb_paths = self.rgb_paths[:max_samples]\n",
    "            self.label_paths = self.label_paths[:max_samples]\n",
    "\n",
    "    def __getitem__(self, idx):\n",
    "        rgb = Image.open(os.path.join(self.root, 'RGB', self.rgb_paths[idx])).convert('RGB')\n",
    "        label = Image.open(os.path.join(self.root, 'LABEL', self.label_paths[idx]))\n",
    "        if self.transform:\n",
    "            rgb = self.transform(rgb)\n",
    "        return {'rgb': rgb, 'label': label}\n",
    "\n",
    "    def __len__(self):\n",
    "        return len(self.rgb_paths)"
   ]
  }
 ],
 "metadata": {
  "language_info": {
   "name": "python"
  }
 },
 "nbformat": 4,
 "nbformat_minor": 5
}
